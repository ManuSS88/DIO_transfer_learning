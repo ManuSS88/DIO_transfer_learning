{
  "nbformat": 4,
  "nbformat_minor": 0,
  "metadata": {
    "colab": {
      "provenance": [],
      "include_colab_link": true
    },
    "kernelspec": {
      "name": "python3",
      "display_name": "Python 3"
    },
    "accelerator": "TPU"
  },
  "cells": [
    {
      "cell_type": "markdown",
      "metadata": {
        "id": "view-in-github",
        "colab_type": "text"
      },
      "source": [
        "<a href=\"https://colab.research.google.com/github/ManuSS88/DIO_transfer_learning/blob/main/Confusion_Matrix.ipynb\" target=\"_parent\"><img src=\"https://colab.research.google.com/assets/colab-badge.svg\" alt=\"Open In Colab\"/></a>"
      ]
    },
    {
      "cell_type": "code",
      "metadata": {
        "id": "Nr2ZyMJk9bbn",
        "outputId": "7a56c7ae-5725-462e-df8e-4c6f040eaaad",
        "colab": {
          "base_uri": "https://localhost:8080/",
          "height": 72
        }
      },
      "source": [
        "!pip install -q tensorflow-gpu==2.0.0-beta1"
      ],
      "execution_count": null,
      "outputs": [
        {
          "output_type": "stream",
          "text": [
            "\u001b[K     |████████████████████████████████| 348.9MB 60kB/s \n",
            "\u001b[K     |████████████████████████████████| 3.1MB 38.6MB/s \n",
            "\u001b[K     |████████████████████████████████| 501kB 47.8MB/s \n",
            "\u001b[?25h"
          ],
          "name": "stdout"
        }
      ]
    },
    {
      "cell_type": "code",
      "metadata": {
        "id": "9GOTUsN2vHZr"
      },
      "source": [
        "from tensorflow.keras import datasets, layers, models\n",
        "import matplotlib.pyplot as plt\n",
        "import tensorflow as tf\n",
        "\n",
        "import numpy as np\n",
        "\n",
        "import seaborn as sns\n",
        "\n",
        "import pandas as pd"
      ],
      "execution_count": null,
      "outputs": []
    },
    {
      "cell_type": "code",
      "metadata": {
        "id": "Wickr6O73HpO",
        "outputId": "f40b716a-3e31-4a76-d0b1-ffe9e4f30c6b",
        "colab": {
          "base_uri": "https://localhost:8080/",
          "height": 35
        }
      },
      "source": [
        "tf.__version__"
      ],
      "execution_count": null,
      "outputs": [
        {
          "output_type": "execute_result",
          "data": {
            "text/plain": [
              "'2.0.0-beta1'"
            ]
          },
          "metadata": {
            "tags": []
          },
          "execution_count": 3
        }
      ]
    },
    {
      "cell_type": "code",
      "metadata": {
        "id": "Lc4AqLg2saU4"
      },
      "source": [
        "%load_ext tensorboard"
      ],
      "execution_count": null,
      "outputs": []
    },
    {
      "cell_type": "code",
      "metadata": {
        "id": "wHY7qcTV2uxR"
      },
      "source": [
        "logdir='log'"
      ],
      "execution_count": null,
      "outputs": []
    },
    {
      "cell_type": "code",
      "metadata": {
        "id": "8I41zgjVvF1g"
      },
      "source": [
        "(train_images, train_labels), (test_images, test_labels) = datasets.mnist.load_data()\n",
        "\n",
        "train_images = train_images.reshape((60000, 28, 28, 1))\n",
        "test_images = test_images.reshape((10000, 28, 28, 1))\n",
        "\n",
        "train_images, test_images = train_images / 255.0, test_images / 255.0\n",
        "\n",
        "classes=[0,1,2,3,4,5,6,7,8,9]"
      ],
      "execution_count": null,
      "outputs": []
    },
    {
      "cell_type": "code",
      "metadata": {
        "id": "_eD7E_m39bis"
      },
      "source": [
        "model = models.Sequential()\n",
        "model.add(layers.Conv2D(32, (3, 3), activation='relu', input_shape=(28, 28, 1)))\n",
        "model.add(layers.MaxPooling2D((2, 2)))\n",
        "model.add(layers.Conv2D(64, (3, 3), activation='relu'))\n",
        "model.add(layers.MaxPooling2D((2, 2)))\n",
        "model.add(layers.Conv2D(64, (3, 3), activation='relu'))\n",
        "\n",
        "model.add(layers.Flatten())\n",
        "model.add(layers.Dense(64, activation='relu'))\n",
        "model.add(layers.Dense(10, activation='softmax'))\n"
      ],
      "execution_count": null,
      "outputs": []
    },
    {
      "cell_type": "code",
      "metadata": {
        "id": "e19fqT7B4QII"
      },
      "source": [
        "tensorboard_callback = tf.keras.callbacks.TensorBoard(logdir, histogram_freq=1)"
      ],
      "execution_count": null,
      "outputs": []
    },
    {
      "cell_type": "code",
      "metadata": {
        "id": "QOIbCQ3T9bml",
        "outputId": "19428d74-1cfc-4c83-92a2-17d5477ebfb3",
        "colab": {
          "base_uri": "https://localhost:8080/",
          "height": 328
        }
      },
      "source": [
        "model.compile(optimizer='adam',\n",
        "              loss='sparse_categorical_crossentropy',\n",
        "              metrics=['accuracy'])\n",
        "\n",
        "model.fit(x=train_images,\n",
        "            y=train_labels,\n",
        "            epochs=5,\n",
        "            validation_data=(test_images, test_labels))"
      ],
      "execution_count": null,
      "outputs": [
        {
          "output_type": "stream",
          "text": [
            "WARNING: Logging before flag parsing goes to stderr.\n",
            "W0628 03:40:57.820147 140198879729536 deprecation.py:323] From /usr/local/lib/python3.6/dist-packages/tensorflow/python/ops/math_grad.py:1250: add_dispatch_support.<locals>.wrapper (from tensorflow.python.ops.array_ops) is deprecated and will be removed in a future version.\n",
            "Instructions for updating:\n",
            "Use tf.where in 2.0, which has the same broadcast rule as np.where\n"
          ],
          "name": "stderr"
        },
        {
          "output_type": "stream",
          "text": [
            "Train on 60000 samples, validate on 10000 samples\n",
            "Epoch 1/5\n",
            "60000/60000 [==============================] - 62s 1ms/sample - loss: 0.1430 - accuracy: 0.9563 - val_loss: 0.0452 - val_accuracy: 0.9854\n",
            "Epoch 2/5\n",
            "60000/60000 [==============================] - 62s 1ms/sample - loss: 0.0457 - accuracy: 0.9855 - val_loss: 0.0335 - val_accuracy: 0.9893\n",
            "Epoch 3/5\n",
            "60000/60000 [==============================] - 60s 1ms/sample - loss: 0.0327 - accuracy: 0.9900 - val_loss: 0.0369 - val_accuracy: 0.9885\n",
            "Epoch 4/5\n",
            "60000/60000 [==============================] - 61s 1ms/sample - loss: 0.0257 - accuracy: 0.9917 - val_loss: 0.0335 - val_accuracy: 0.9899\n",
            "Epoch 5/5\n",
            "60000/60000 [==============================] - 61s 1ms/sample - loss: 0.0202 - accuracy: 0.9936 - val_loss: 0.0337 - val_accuracy: 0.9892\n"
          ],
          "name": "stdout"
        },
        {
          "output_type": "execute_result",
          "data": {
            "text/plain": [
              "<tensorflow.python.keras.callbacks.History at 0x7f822f6ecb00>"
            ]
          },
          "metadata": {
            "tags": []
          },
          "execution_count": 14
        }
      ]
    },
    {
      "cell_type": "code",
      "metadata": {
        "id": "SHkdG_lehhMU"
      },
      "source": [
        "y_true=test_labels\n",
        "y_pred=model.predict_classes(test_images)\n"
      ],
      "execution_count": null,
      "outputs": []
    },
    {
      "cell_type": "code",
      "metadata": {
        "id": "iu2h0QRmDJjW"
      },
      "source": [
        "classes=[0,1,2,3,4,5,6,7,8,9]"
      ],
      "execution_count": null,
      "outputs": []
    },
    {
      "cell_type": "code",
      "metadata": {
        "id": "REXBQV3UX15X",
        "outputId": "2696c588-95e7-4093-c6ab-3f326d1fea81",
        "colab": {
          "base_uri": "https://localhost:8080/",
          "height": 826
        }
      },
      "source": [
        "con_mat = tf.math.confusion_matrix(labels=y_true, predictions=y_pred).numpy()\n",
        "con_mat_norm = np.around(con_mat.astype('float') / con_mat.sum(axis=1)[:, np.newaxis], decimals=2)\n",
        "\n",
        "con_mat_df = pd.DataFrame(con_mat_norm,\n",
        "                     index = classes,\n",
        "                     columns = classes)\n",
        "\n",
        "figure = plt.figure(figsize=(8, 8))\n",
        "sns.heatmap(con_mat_df, annot=True,cmap=plt.cm.Blues)\n",
        "plt.tight_layout()\n",
        "plt.ylabel('True label')\n",
        "plt.xlabel('Predicted label')\n",
        "plt.show()"
      ],
      "execution_count": 25,
      "outputs": [
        {
          "output_type": "display_data",
          "data": {
            "text/plain": [
              "<Figure size 800x800 with 2 Axes>"
            ],
            "image/png": "[encoded data removed]"
          },
          "metadata": {}
        }
      ]
    },
    {
      "cell_type": "markdown",
      "source": [
        "# **O código a seguir foi desenvolvido por mim com base nas equações dadas no curso, utilizando as métricas obtidas com o dataset importado acima. Contrasto o resultado com os obtidos com as funções do scikit-learn:**"
      ],
      "metadata": {
        "id": "GcMnWA1ex7hM"
      }
    },
    {
      "cell_type": "code",
      "source": [
        "#-- Sensibilidade (recall) - (VP / (VP + FN))\n",
        "\n",
        "cm = con_mat\n",
        "\n",
        "FP = cm.sum(axis=0) - np.diag(cm)\n",
        "FN = cm.sum(axis=1) - np.diag(cm)\n",
        "VP = np.diag(cm)\n",
        "VN = cm.sum() - (FP + FN + VP)\n",
        "\n",
        "\n",
        "# Cálculo de cada métrica por classe\n",
        "sensibilidade = VP / (VP + FN)  # Also known as recall\n",
        "especificidade = VN / (VN + FP)\n",
        "precisão = VP / (VP + FP)\n",
        "acurácia = (VP + VN) / (VP + VN + FP + FN)\n",
        "f_score1 = 2 * (precisão * sensibilidade) / (precisão + sensibilidade)\n",
        "\n",
        "# Print dos resultados\n",
        "for i, class_label in enumerate(classes):\n",
        "    print(f\"  Sensibilidade (Recall): {sensibilidade[i]:.4f}\")\n",
        "    print(f\"  Especificidade: {especificidade[i]:.4f}\")\n",
        "    print(f\"  Precisão: {precisão[i]:.4f}\")\n",
        "    print(f\"  Acurácia: {acurácia[i]:.4f}\")\n",
        "    print(f\"  F1-Score: {f_score1[i]:.4f}\")\n",
        "    print(\"-\" * 20)\n",
        "\n",
        "import numpy as np\n",
        "from sklearn.metrics import confusion_matrix, accuracy_score, precision_score, recall_score, f1_score\n",
        "\n",
        "# Calculando as mesmas métricas com scikit-learn (comparação)\n",
        "acuracia_global= accuracy_score(y_true, y_pred)\n",
        "precisao_global = precision_score(y_true, y_pred, average='weighted')\n",
        "recall_global = recall_score(y_true, y_pred, average='weighted')\n",
        "f1_global = f1_score(y_true, y_pred, average='weighted')\n",
        "\n",
        "\n",
        "\n"
      ],
      "metadata": {
        "id": "68IOzba1ywim",
        "outputId": "b44e3f87-6674-4d6c-b1d7-86d614c3fe9e",
        "colab": {
          "base_uri": "https://localhost:8080/"
        }
      },
      "execution_count": 29,
      "outputs": [
        {
          "output_type": "stream",
          "name": "stdout",
          "text": [
            "  Sensibilidade (Recall): 0.9939\n",
            "  Especificidade: 0.9988\n",
            "  Precisão: 0.9888\n",
            "  Acurácia: 0.9983\n",
            "  F1-Score: 0.9913\n",
            "--------------------\n",
            "  Sensibilidade (Recall): 0.9938\n",
            "  Especificidade: 0.9989\n",
            "  Precisão: 0.9912\n",
            "  Acurácia: 0.9983\n",
            "  F1-Score: 0.9925\n",
            "--------------------\n",
            "  Sensibilidade (Recall): 0.9971\n",
            "  Especificidade: 0.9991\n",
            "  Precisão: 0.9923\n",
            "  Acurácia: 0.9989\n",
            "  F1-Score: 0.9947\n",
            "--------------------\n",
            "  Sensibilidade (Recall): 0.9970\n",
            "  Especificidade: 0.9978\n",
            "  Precisão: 0.9805\n",
            "  Acurácia: 0.9977\n",
            "  F1-Score: 0.9887\n",
            "--------------------\n",
            "  Sensibilidade (Recall): 0.9827\n",
            "  Especificidade: 0.9990\n",
            "  Precisão: 0.9908\n",
            "  Acurácia: 0.9974\n",
            "  F1-Score: 0.9867\n",
            "--------------------\n",
            "  Sensibilidade (Recall): 0.9899\n",
            "  Especificidade: 0.9985\n",
            "  Precisão: 0.9844\n",
            "  Acurácia: 0.9977\n",
            "  F1-Score: 0.9871\n",
            "--------------------\n",
            "  Sensibilidade (Recall): 0.9854\n",
            "  Especificidade: 0.9997\n",
            "  Precisão: 0.9968\n",
            "  Acurácia: 0.9983\n",
            "  F1-Score: 0.9911\n",
            "--------------------\n",
            "  Sensibilidade (Recall): 0.9825\n",
            "  Especificidade: 0.9992\n",
            "  Precisão: 0.9931\n",
            "  Acurácia: 0.9975\n",
            "  F1-Score: 0.9878\n",
            "--------------------\n",
            "  Sensibilidade (Recall): 0.9897\n",
            "  Especificidade: 0.9996\n",
            "  Precisão: 0.9959\n",
            "  Acurácia: 0.9986\n",
            "  F1-Score: 0.9928\n",
            "--------------------\n",
            "  Sensibilidade (Recall): 0.9812\n",
            "  Especificidade: 0.9978\n",
            "  Precisão: 0.9802\n",
            "  Acurácia: 0.9961\n",
            "  F1-Score: 0.9807\n",
            "--------------------\n"
          ]
        }
      ]
    },
    {
      "cell_type": "code",
      "metadata": {
        "id": "924thjUKapvL"
      },
      "source": [
        "model1 = models.Sequential()\n",
        "model1.add(layers.Conv2D(32, (3, 3), activation='relu', input_shape=(28, 28, 1)))\n",
        "model1.add(layers.MaxPooling2D((2, 2)))\n",
        "model1.add(layers.Conv2D(64, (3, 3), activation='relu'))\n",
        "model1.add(layers.MaxPooling2D((2, 2)))\n",
        "model1.add(layers.Conv2D(64, (3, 3), activation='relu'))\n",
        "\n",
        "model1.add(layers.Flatten())\n",
        "model1.add(layers.Dense(64, activation='relu'))\n",
        "model1.add(layers.Dense(10, activation='softmax'))\n",
        "\n",
        "model1.compile(\n",
        "    optimizer='adam',\n",
        "    loss='sparse_categorical_crossentropy',\n",
        "    metrics=['accuracy']\n",
        ")"
      ],
      "execution_count": null,
      "outputs": []
    },
    {
      "cell_type": "code",
      "metadata": {
        "id": "keKspwhadELy"
      },
      "source": [
        "file_writer = tf.summary.create_file_writer(logdir + '/cm')\n",
        "\n",
        "def log_confusion_matrix(epoch, logs):\n",
        "  # Use the model to predict the values from the validation dataset.\n",
        "  test_pred = model1.predict_classes(test_images)\n",
        "\n",
        "  con_mat = tf.math.confusion_matrix(labels=test_labels, predictions=test_pred).numpy()\n",
        "  con_mat_norm = np.around(con_mat.astype('float') / con_mat.sum(axis=1)[:, np.newaxis], decimals=2)\n",
        "\n",
        "  con_mat_df = pd.DataFrame(con_mat_norm,\n",
        "                     index = classes,\n",
        "                     columns = classes)\n",
        "\n",
        "  figure = plt.figure(figsize=(8, 8))\n",
        "  sns.heatmap(con_mat_df, annot=True,cmap=plt.cm.Blues)\n",
        "  plt.tight_layout()\n",
        "  plt.ylabel('True label')\n",
        "  plt.xlabel('Predicted label')\n",
        "\n",
        "  buf = io.BytesIO()\n",
        "  plt.savefig(buf, format='png')\n",
        "\n",
        "  plt.close(figure)\n",
        "  buf.seek(0)\n",
        "  image = tf.image.decode_png(buf.getvalue(), channels=4)\n",
        "\n",
        "  image = tf.expand_dims(image, 0)\n",
        "\n",
        "  # Log the confusion matrix as an image summary.\n",
        "  with file_writer.as_default():\n",
        "    tf.summary.image(\"Confusion Matrix\", image, step=epoch)\n",
        "\n",
        "\n",
        "logdir='logs/images'\n",
        "\n",
        "tensorboard_callback = tf.keras.callbacks.TensorBoard(log_dir=logdir)\n",
        "\n",
        "cm_callback = keras.callbacks.LambdaCallback(on_epoch_end=log_confusion_matrix)"
      ],
      "execution_count": null,
      "outputs": []
    },
    {
      "cell_type": "code",
      "metadata": {
        "id": "RhKBRDr2eA-8"
      },
      "source": [
        "model1.fit(\n",
        "    train_images,\n",
        "    train_labels,\n",
        "    epochs=5,\n",
        "    verbose=0,\n",
        "    callbacks=[tensorboard_callback, cm_callback],\n",
        "    validation_data=(test_images, test_labels),\n",
        ")"
      ],
      "execution_count": null,
      "outputs": []
    },
    {
      "cell_type": "code",
      "metadata": {
        "id": "XPMYfawlfxar"
      },
      "source": [
        "# Start TensorBoard.\n",
        "%tensorboard --logdir logs/images"
      ],
      "execution_count": null,
      "outputs": []
    }
  ]
}